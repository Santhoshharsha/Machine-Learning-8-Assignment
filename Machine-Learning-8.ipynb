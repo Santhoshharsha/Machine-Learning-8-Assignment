{
 "cells": [
  {
   "cell_type": "markdown",
   "metadata": {
    "collapsed": true
   },
   "source": [
    "# Machine Learning 8 Assignment\n",
    "Problem Statement\n",
    "In this assignment students have to find the frequency of words in a webpage. User can use urllib and BeautifulSoup to extract text from webpage."
   ]
  },
  {
   "cell_type": "code",
   "execution_count": 1,
   "metadata": {},
   "outputs": [],
   "source": [
    "from bs4 import BeautifulSoup\n",
    "import urllib.request\n",
    "import nltk\n",
    "response = urllib.request.urlopen('http://php.net/')\n",
    "html = response.read()\n",
    "soup = BeautifulSoup(html,\"html5lib\")"
   ]
  },
  {
   "cell_type": "code",
   "execution_count": 2,
   "metadata": {},
   "outputs": [
    {
     "name": "stdout",
     "output_type": "stream",
     "text": [
      "PHP: Hypertext PreprocessorDownloadsDocumentationGet InvolvedHelpGetting StartedIntroductionA simple tutorialLanguage ReferenceBasic syntaxTypesVariablesConstantsExpressionsOperatorsControl StructuresFunctionsClasses and ObjectsNamespacesErrorsExceptionsGeneratorsReferences ExplainedPredefined VariablesPredefined ExceptionsPredefined Interfaces and ClassesContext options and parametersSupported Protocols and WrappersSecurityIntroductionGeneral considerationsInstalled as CGI binaryInstalled as an Apache moduleSession SecurityFilesystem SecurityDatabase SecurityError ReportingUsing Register GlobalsUser Submitted DataMagic QuotesHiding PHPKeeping CurrentFeaturesHTTP authentication with PHPCookiesSessionsDealing with XFormsHandling file uploadsUsing remote filesConnection handlingPersistent Database ConnectionsSafe ModeCommand line usageGarbage CollectionDTrace Dynamic TracingFunction ReferenceAffecting PHP's BehaviourAudio Formats ManipulationAuthentication ServicesCommand Line Specific ExtensionsCompression and Archive ExtensionsCredit Card ProcessingCryptography ExtensionsDatabase ExtensionsDate and Time Related ExtensionsFile System Related ExtensionsHuman Language and Character Encoding SupportImage Processing and GenerationMail Related ExtensionsMathematical ExtensionsNon-Text MIME OutputProcess Control ExtensionsOther Basic ExtensionsOther ServicesSearch Engine ExtensionsServer Specific ExtensionsSession ExtensionsText ProcessingVariable and Type Related ExtensionsWeb ServicesWindows Only ExtensionsXML ManipulationGUI ExtensionsKeyboard Shortcuts?This helpjNext menu itemkPrevious menu itemg pPrevious man pageg nNext man pageGScroll to bottomg gScroll to topg hGoto homepageg sGoto search(current page)/Focus search boxPHP is a popular general-purpose scripting language that is especially suited to web development.Fast, flexible and pragmatic, PHP powers everything from your blog to the most popular websites in the world.Download5.6.38·Release Notes·Upgrading7.0.32·Release Notes·Upgrading7.1.24·Release Notes·Upgrading7.2.12·Release Notes·Upgrading08 Nov 2018PHP 7.1.24 ReleasedPHP 7.1.24 Release AnnouncementThe PHP development team announces the immediate availability of PHP 7.1.24.\n",
      "     This is a bugfix release.All PHP 7.1 users are encouraged to upgrade to this version.For source downloads of PHP 7.1.24 please visit ourdownloads page,\n",
      "     Windows source and binaries can be found onwindows.php.net/download/.\n",
      "     The list of changes is recorded in theChangeLog.08 Nov 2018PHP 7.2.12 ReleasedThe PHP development team announces the immediate availability of PHP\n",
      "     7.2.12. This is a bugfix release.All PHP 7.2 users are encouraged to upgrade to this version.For source downloads of PHP 7.2.12 please visit ourdownloads page,\n",
      "     Windows source and binaries can be found onwindows.php.net/download/.\n",
      "     The list of changes is recorded in theChangeLog.08 Nov 2018PHP 7.3.0RC5 ReleasedThe PHP team is glad to announce the next PHP 7.3.0 pre-release, PHP 7.3.0RC5.\n",
      "        The rough outline of the PHP 7.3 release cycle is specified in thePHP Wiki.For source downloads of PHP 7.3.0RC5 please visit thedownload page.\n",
      "        Windows sources and binaries can be found onwindows.php.net/qa/.Please carefully test this version and report any issues found in thebug reporting system.THIS IS A DEVELOPMENT PREVIEW - DO NOT USE IT IN PRODUCTION!For more information on the new features and other changes, you can read theNEWSfile,\n",
      "        or theUPGRADINGfile for a complete list of upgrading notes. Internal changes are listed in theUPGRADING.INTERNALSfile.\n",
      "        These files can also be found in the release archive.The next release would be RC6, planned for November 22nd.The signatures for the release can be found inthe manifestor onthe QA site.Thank you for helping us make PHP better.25 Oct 2018PHP 7.3.0RC4 ReleasedThe PHP team is glad to announce the next PHP 7.3.0 pre-release, PHP 7.3.0RC4.\n",
      "        The rough outline of the PHP 7.3 release cycle is specified in thePHP Wiki.For source downloads of PHP 7.3.0RC4 please visit thedownload page.\n",
      "        Windows sources and binaries can be found onwindows.php.net/qa/.Please carefully test this version and report any issues found in thebug reporting system.THIS IS A DEVELOPMENT PREVIEW - DO NOT USE IT IN PRODUCTION!For more information on the new features and other changes, you can read theNEWSfile,\n",
      "        or theUPGRADINGfile for a complete list of upgrading notes. Internal changes are listed in theUPGRADING.INTERNALSfile.\n",
      "        These files can also be found in the release archive.The next release would be RC5, planned for November 8th.The signatures for the release can be found inthe manifestor onthe QA site.Thank you for helping us make PHP better.11 Oct 2018PHP 7.1.23 ReleasedThe PHP development team announces the immediate availability of PHP 7.1.23.\n",
      "     This is a bugfix release.All PHP 7.1 users are encouraged to upgrade to this version.For source downloads of PHP 7.1.23 please visit ourdownloads page,\n",
      "     Windows source and binaries can be found onwindows.php.net/download/.\n",
      "     The list of changes is recorded in theChangeLog.11 Oct 2018PHP 7.2.11 ReleasedThe PHP development team announces the immediate availability of PHP 7.2.11.\n",
      "     This is a bugfix release.All PHP 7.2 users are encouraged to upgrade to this version.For source downloads of PHP 7.2.11 please visit ourdownloads page,\n",
      "     Windows source and binaries can be found onwindows.php.net/download/.\n",
      "     The list of changes is recorded in theChangeLog.11 Oct 2018PHP 7.3.0RC3 ReleasedThe PHP team is glad to announce the next PHP 7.3.0 pre-release, PHP 7.3.0RC3.\n",
      "        The rough outline of the PHP 7.3 release cycle is specified in thePHP Wiki.For source downloads of PHP 7.3.0RC3 please visit thedownload page.\n",
      "        Windows sources and binaries can be found onwindows.php.net/qa/.Please carefully test this version and report any issues found in thebug reporting system.THIS IS A DEVELOPMENT PREVIEW - DO NOT USE IT IN PRODUCTION!For more information on the new features and other changes, you can read theNEWSfile,\n",
      "        or theUPGRADINGfile for a complete list of upgrading notes. Internal changes are listed in theUPGRADING.INTERNALSfile.\n",
      "        These files can also be found in the release archive.The next release would be RC4, planned for October 25th.The signatures for the release can be found inthe manifestor onthe QA site.Thank you for helping us make PHP better.28 Sep 2018PHP 7.3.0RC2 ReleasedThe PHP team is glad to announce the next PHP 7.3.0 pre-release, PHP 7.3.0RC2.\n",
      "        The rough outline of the PHP 7.3 release cycle is specified in thePHP Wiki.For source downloads of PHP 7.3.0RC2 please visit thedownload page.\n",
      "        Windows sources and binaries can be found onwindows.php.net/qa/.Please carefully test this version and report any issues found in thebug reporting system.THIS IS A DEVELOPMENT PREVIEW - DO NOT USE IT IN PRODUCTION!For more information on the new features and other changes, you can read theNEWSfile,\n",
      "        or theUPGRADINGfile for a complete list of upgrading notes. Internal changes are listed in theUPGRADING.INTERNALSfile.\n",
      "        These files can also be found in the release archive.The next release would be RC3, planned for October 11th.The signatures for the release can be found inthe manifestor onthe QA site.Thank you for helping us make PHP better.13 Sep 2018PHP 5.6.38 ReleasedThe PHP development team announces the immediate availability of PHP\n",
      "        5.6.38. This is a security release. One security bug has been fixed\n",
      "        in this release.\n",
      "\n",
      "     All PHP 5.6 users are encouraged to upgrade to this version.For source downloads of PHP 5.6.38 please visit ourdownloads page,\n",
      "     Windows source and binaries can be found onwindows.php.net/download/.\n",
      "     The list of changes is recorded in theChangeLog.13 Sep 2018PHP 7.1.22 ReleasedThe PHP development team announces the immediate availability of PHP\n",
      "     7.1.22. This is a security release. One security bug has been fixed\n",
      "     in this release.\n",
      "\n",
      "     All PHP 7.1 users are encouraged to upgrade to this version.For source downloads of PHP 7.1.22 please visit ourdownloads page,\n",
      "     Windows source and binaries can be found onwindows.php.net/download/.\n",
      "     The list of changes is recorded in theChangeLog.13 Sep 2018PHP 7.3.0RC1 ReleasedThe PHP team is glad to announce the release of the next PHP 7.3.0 pre-release, PHP 7.3.0RC1.\n",
      "        The rough outline of the PHP 7.3 release cycle is specified in thePHP Wiki.For source downloads of PHP 7.3.0RC1 please visit thedownload page.\n",
      "        Windows sources and binaries can be found onwindows.php.net/qa/.Please carefully test this version and report any issues found in thebug reporting system.THIS IS A DEVELOPMENT PREVIEW - DO NOT USE IT IN PRODUCTION!For more information on the new features and other changes, you can read theNEWSfile,\n",
      "        or theUPGRADINGfile for a complete list of upgrading notes. Internal changes are listed in theUPGRADING.INTERNALSfile.\n",
      "        These files can also be found in the release archive.The next release would be RC2, planned for September 27th.The signatures for the release can be found inthe manifestor onthe QA site.Thank you for helping us make PHP better.30 Aug 2018PHP 7.3.0.beta3 ReleasedThe PHP team is glad to announce the release of the seventh PHP 7.3.0 version, PHP 7.3.0beta3.\n",
      "        The rough outline of the PHP 7.3 release cycle is specified in thePHP Wiki.For source downloads of PHP 7.3.0beta3 please visit thedownload page.\n",
      "        Windows sources and binaries can be found onwindows.php.net/qa/.Please carefully test this version and report any issues found in thebug reporting system.THIS IS A DEVELOPMENT PREVIEW - DO NOT USE IT IN PRODUCTION!For more information on the new features and other changes, you can read theNEWSfile,\n",
      "        or theUPGRADINGfile for a complete list of upgrading notes. Internal changes are listed in theUPGRADING.INTERNALSfile.\n",
      "        These files can also be found in the release archive.The next release would be RC1, planned for September 13th.The signatures for the release can be found inthe manifestor onthe QA site.Thank you for helping us make PHP better.16 Aug 2018PHP 7.3.0.beta2 ReleasedThe PHP team is glad to announce the release of the sixth PHP 7.3.0 version, PHP 7.3.0beta2.\n",
      "        The rough outline of the PHP 7.3 release cycle is specified in thePHP Wiki.For source downloads of PHP 7.3.0beta2 please visit thedownload page.\n",
      "        Windows sources and binaries can be found onwindows.php.net/qa/.Please carefully test this version and report any issues found in thebug reporting system.THIS IS A DEVELOPMENT PREVIEW - DO NOT USE IT IN PRODUCTION!For more information on the new features and other changes, you can read theNEWSfile,\n",
      "        or theUPGRADINGfile for a complete list of upgrading notes. Internal changes are listed in theUPGRADING.INTERNALSfile.\n",
      "        These files can also be found in the release archive.The next release would be Beta 3, planned for August 30th.The signatures for the release can be found inthe manifestor onthe QA site.Thank you for helping us make PHP better.02 Aug 2018PHP 7.3.0.beta1 ReleasedThe PHP team is glad to announce the release of the fifth PHP 7.3.0 version, PHP 7.3.0beta1.\n",
      "        The rough outline of the PHP 7.3 release cycle is specified in thePHP Wiki.For source downloads of PHP 7.3.0beta1 please visit thedownload page.\n",
      "        Windows sources and binaries can be found onwindows.php.net/qa/.Please carefully test this version and report any issues found in thebug reporting system.THIS IS A DEVELOPMENT PREVIEW - DO NOT USE IT IN PRODUCTION!For more information on the new features and other changes, you can read theNEWSfile,\n",
      "        or theUPGRADINGfile for a complete list of upgrading notes. These files can also be found in the release archive.The next release would be Beta 2, planned for August 16th.The signatures for the release can be found inthe manifestor onthe QA site.Thank you for helping us make PHP better.19 Jul 2018PHP 7.3.0alpha4 ReleasedThe PHP team is glad to announce the release of the fourth PHP 7.3.0 version, PHP 7.3.0alpha4.\n",
      "        The rough outline of the PHP 7.3 release cycle is specified in thePHP Wiki.For source downloads of PHP 7.3.0alpha4 please visit thedownload page.\n",
      "        Windows sources and binaries can be found onwindows.php.net/qa/.Please carefully test this version and report any issues found in thebug reporting system.THIS IS A DEVELOPMENT PREVIEW - DO NOT USE IT IN PRODUCTION!For more information on the new features and other changes, you can read theNEWSfile,\n",
      "        or theUPGRADINGfile for a complete list of upgrading notes. These files can also be found in the release archive.The next release would be Beta 1, planned for August 2nd.The signatures for the release can be found inthe manifestor onthe QA site.Thank you for helping us make PHP better.05 Jul 2018PHP 7.3.0 alpha 3 ReleasedThe PHP team is glad to announce the release of the third PHP 7.3.0 version, PHP 7.3.0 Alpha 3.\n",
      "      The rough outline of the PHP 7.3 release cycle is specified in thePHP Wiki.For source downloads of PHP 7.3.0 Alpha 3 please visit thedownload page.\n",
      "      Windows sources and binaries can be found onwindows.php.net/qa/.Please carefully test this version and report any issues found in thebug reporting system.THIS IS A DEVELOPMENT PREVIEW - DO NOT USE IT IN PRODUCTION!For more information on the new features and other changes, you can read theNEWSfile,\n",
      "      or theUPGRADINGfile for a complete list of upgrading notes. These files can also be found in the release archive.The next release would be Beta 1, planned for July 19th.The signatures for the release can be found inthe manifestor onthe QA site.Thank you for helping us make PHP better.21 Jun 2018PHP 7.3.0 alpha 2 ReleasedThe PHP team is glad to announce the release of the second PHP 7.3.0 version, PHP 7.3.0 Alpha 2.\n",
      "      The rough outline of the PHP 7.3 release cycle is specified in thePHP Wiki.For source downloads of PHP 7.3.0 Alpha 2 please visit thedownload page.\n",
      "      Windows sources and binaries can be found onwindows.php.net/qa/.Please carefully test this version and report any issues found in thebug reporting system.THIS IS A DEVELOPMENT PREVIEW - DO NOT USE IT IN PRODUCTION!For more information on the new features and other changes, you can read theNEWSfile,\n",
      "      or theUPGRADINGfile for a complete list of upgrading notes. These files can also be found in the release archive.The next release would be Alpha 3, planned for July 5.The signatures for the release can be found inthe manifestor onthe QA site.Thank you for helping us make PHP better.07 Jun 2018PHP 7.3.0 alpha 1 ReleasedPHP team is glad to announce the release of the first PHP 7.3.0 version, PHP 7.3.0 Alpha 1.\n",
      "\t This starts the PHP 7.3 release cycle, the rough outline of which is specified in thePHP Wiki.For source downloads of PHP 7.3.0 Alpha 1 please visit thedownload page.Please carefully test this version and report any issues found in thebug reporting system.Please DO NOT use this version in production, it is an early test version.For more information on the new features and other changes, you can read theNEWSfile,\n",
      "\t     or theUPGRADINGfile for a complete list of upgrading notes. These files can also be found in the release archive.The next release would be Alpha 2, planned for June 21.The signatures for the release can be found inthe manifestor onthe QA site.Thank you for helping us make PHP better.01 Feb 2018PHP 7.2.2 ReleasedThe PHP development team announces the immediate availability of PHP\n",
      "      7.2.2. This is a bugfix release, with several bug fixes included.All PHP 7.2 users are encouraged to upgrade to this version.For source downloads of PHP 7.2.2 please visit ourdownloads page,\n",
      "      Windows source and binaries can be found onwindows.php.net/download/.\n",
      "      The list of changes is recorded in theChangeLog.12 Oct 2017PHP 7.2.0 Release Candidate 4 ReleasedThe PHP development team announces the immediate availability of PHP 7.2.0 RC4.\n",
      "     This release is the fourth Release Candidate for 7.2.0.\n",
      "     All users of PHP are encouraged to test this version carefully, and report any bugs\n",
      "     and incompatibilities in thebug tracking system.THIS IS A DEVELOPMENT PREVIEW - DO NOT USE IT IN PRODUCTION!For more information on the new features and other changes, you can read theNEWSfile,\n",
      "     or theUPGRADINGfile for a complete list of upgrading notes. These files can also be found in the release archive.For source downloads of PHP 7.2.0 Release Candidate 4 please visit thedownloadpage,\n",
      "     Windows sources and binaries can be found atwindows.php.net/qa/.The next Release Candidate will be announced on the 26th of October.\n",
      "     You can also read the full list of planned releases onour wiki.Thank you for helping us make PHP better.28 Sep 2017PHP 7.2.0 Release Candidate 3 ReleasedThe PHP development team announces the immediate availability of PHP 7.2.0 RC3.\n",
      "     This release is the third Release Candidate for 7.2.0.\n",
      "     All users of PHP are encouraged to test this version carefully, and report any bugs\n",
      "     and incompatibilities in thebug tracking system.THIS IS A DEVELOPMENT PREVIEW - DO NOT USE IT IN PRODUCTION!For more information on the new features and other changes, you can read theNEWSfile,\n",
      "     or theUPGRADINGfile for a complete list of upgrading notes. These files can also be found in the release archive.For source downloads of PHP 7.2.0 Release Candidate 3 please visit thedownloadpage,\n",
      "     Windows sources and binaries can be found atwindows.php.net/qa/.The next Release Candidate will be announced on the 12th of October.\n",
      "     You can also read the full list of planned releases onour wiki.Thank you for helping us make PHP better.31 Aug 2017PHP 7.2.0 Release Candidate 1 ReleasedThe PHP development team announces the immediate availability of PHP 7.2.0 Release\n",
      "      Candidate 1. This release is the first Release Candidate for 7.2.0.\n",
      "      All users of PHP are encouraged to test this version carefully, and report any bugs\n",
      "      and incompatibilities in thebug tracking system.THIS IS A DEVELOPMENT PREVIEW - DO NOT USE IT IN PRODUCTION!For more information on the new features and other changes, you can read theNEWSfile,\n",
      "      or theUPGRADINGfile for a complete list of upgrading notes. These files can also be found in the release archive.For source downloads of PHP 7.2.0 Release Candidate 1 please visit thedownloadpage,\n",
      "      Windows sources and binaries can be found atwindows.php.net/qa/.The second Release Candidate will be released on the 14th of September.\n",
      "      You can also read the full list of planned releases onour wiki.Thank you for helping us make PHP better.17 Aug 2017PHP 7.2.0 Beta 3 ReleasedThe PHP development team announces the immediate availability of PHP 7.2.0 Beta 3.\n",
      "      This release is the third and final beta for 7.2.0. All users of PHP are encouraged\n",
      "      to test this version carefully, and report any bugs and incompatibilities in thebug tracking system.THIS IS A DEVELOPMENT PREVIEW - DO NOT USE IT IN PRODUCTION!For more information on the new features and other changes, you can read theNEWSfile,\n",
      "      or theUPGRADINGfile for a complete list of upgrading notes. These files can also be found in the release archive.For source downloads of PHP 7.2.0 Beta 3 please visit thedownloadpage,\n",
      "      Windows sources and binaries can be found atwindows.php.net/qa/.The first Release Candidate will be released on the 31th of August.\n",
      "      You can also read the full list of planned releases onour wiki.Thank you for helping us make PHP better.06 Jul 2017PHP 7.2.0 Alpha 3 ReleasedThe PHP development team announces the immediate availability of PHP 7.2.0 Alpha 3.\n",
      "     This release contains fixes and improvements relative to Alpha 2.\n",
      "     All users of PHP are encouraged to test this version carefully,\n",
      "     and report any bugs and incompatibilities in thebug tracking system.THIS IS A DEVELOPMENT PREVIEW - DO NOT USE IT IN PRODUCTION!For information on new features and other changes, you can read theNEWSfile,\n",
      "     or theUPGRADINGfile\n",
      "     for a complete list of upgrading notes. These files can also be found in the release archive.For source downloads of PHP 7.2.0 Alpha 3 please visit thedownloadpage,\n",
      "     Windows sources and binaries can be found onwindows.php.net/qa/.The first beta will be released on the 20th of July. You can also read the full list of planned releases on ourwiki.Thank you for helping us make PHP better.Older News EntriesUpcoming conferencesInternational PHP Conference 2019 - Spring EditionLonghorn PHP 2019 CFP is open!php[world] 2018SymfonyCon Lisbon 2018User Group EventsSpecial ThanksSocial media@official_phpCopyright © 2001-2018 The PHP GroupMy PHP.netContactOther PHP.net sitesMirror sitesPrivacy policy\n"
     ]
    }
   ],
   "source": [
    "sentences = soup.get_text(strip=True)\n",
    "print (sentences)"
   ]
  },
  {
   "cell_type": "markdown",
   "metadata": {},
   "source": [
    "## Tokenizing"
   ]
  },
  {
   "cell_type": "code",
   "execution_count": 3,
   "metadata": {},
   "outputs": [],
   "source": [
    "words = [i for i in sentences.split()]"
   ]
  },
  {
   "cell_type": "code",
   "execution_count": 4,
   "metadata": {},
   "outputs": [
    {
     "data": {
      "text/plain": [
       "2981"
      ]
     },
     "execution_count": 4,
     "metadata": {},
     "output_type": "execute_result"
    }
   ],
   "source": [
    "len(words)"
   ]
  },
  {
   "cell_type": "markdown",
   "metadata": {},
   "source": [
    "## Word Frequency Counting"
   ]
  },
  {
   "cell_type": "code",
   "execution_count": 5,
   "metadata": {},
   "outputs": [
    {
     "name": "stdout",
     "output_type": "stream",
     "text": [
      "PHP::1\n",
      "Hypertext:1\n",
      "PreprocessorDownloadsDocumentationGet:1\n",
      "InvolvedHelpGetting:1\n",
      "StartedIntroductionA:1\n",
      "simple:1\n",
      "tutorialLanguage:1\n",
      "ReferenceBasic:1\n",
      "syntaxTypesVariablesConstantsExpressionsOperatorsControl:1\n",
      "StructuresFunctionsClasses:1\n",
      "and:74\n",
      "ObjectsNamespacesErrorsExceptionsGeneratorsReferences:1\n",
      "ExplainedPredefined:1\n",
      "VariablesPredefined:1\n",
      "ExceptionsPredefined:1\n",
      "Interfaces:1\n",
      "ClassesContext:1\n",
      "options:1\n",
      "parametersSupported:1\n",
      "Protocols:1\n",
      "WrappersSecurityIntroductionGeneral:1\n",
      "considerationsInstalled:1\n",
      "as:2\n",
      "CGI:1\n",
      "binaryInstalled:1\n",
      "an:2\n",
      "Apache:1\n",
      "moduleSession:1\n",
      "SecurityFilesystem:1\n",
      "SecurityDatabase:1\n",
      "SecurityError:1\n",
      "ReportingUsing:1\n",
      "Register:1\n",
      "GlobalsUser:1\n",
      "Submitted:1\n",
      "DataMagic:1\n",
      "QuotesHiding:1\n",
      "PHPKeeping:1\n",
      "CurrentFeaturesHTTP:1\n",
      "authentication:1\n",
      "with:3\n",
      "PHPCookiesSessionsDealing:1\n",
      "XFormsHandling:1\n",
      "file:1\n",
      "uploadsUsing:1\n",
      "remote:1\n",
      "filesConnection:1\n",
      "handlingPersistent:1\n",
      "Database:1\n",
      "ConnectionsSafe:1\n",
      "ModeCommand:1\n",
      "line:1\n",
      "usageGarbage:1\n",
      "CollectionDTrace:1\n",
      "Dynamic:1\n",
      "TracingFunction:1\n",
      "ReferenceAffecting:1\n",
      "PHP's:1\n",
      "BehaviourAudio:1\n",
      "Formats:1\n",
      "ManipulationAuthentication:1\n",
      "ServicesCommand:1\n",
      "Line:1\n",
      "Specific:2\n",
      "ExtensionsCompression:1\n",
      "Archive:1\n",
      "ExtensionsCredit:1\n",
      "Card:1\n",
      "ProcessingCryptography:1\n",
      "ExtensionsDatabase:1\n",
      "ExtensionsDate:1\n",
      "Time:1\n",
      "Related:4\n",
      "ExtensionsFile:1\n",
      "System:1\n",
      "ExtensionsHuman:1\n",
      "Language:1\n",
      "Character:1\n",
      "Encoding:1\n",
      "SupportImage:1\n",
      "Processing:1\n",
      "GenerationMail:1\n",
      "ExtensionsMathematical:1\n",
      "ExtensionsNon-Text:1\n",
      "MIME:1\n",
      "OutputProcess:1\n",
      "Control:1\n",
      "ExtensionsOther:2\n",
      "Basic:1\n",
      "ServicesSearch:1\n",
      "Engine:1\n",
      "ExtensionsServer:1\n",
      "ExtensionsSession:1\n",
      "ExtensionsText:1\n",
      "ProcessingVariable:1\n",
      "Type:1\n",
      "ExtensionsWeb:1\n",
      "ServicesWindows:1\n",
      "Only:1\n",
      "ExtensionsXML:1\n",
      "ManipulationGUI:1\n",
      "ExtensionsKeyboard:1\n",
      "Shortcuts?This:1\n",
      "helpjNext:1\n",
      "menu:2\n",
      "itemkPrevious:1\n",
      "itemg:1\n",
      "pPrevious:1\n",
      "man:2\n",
      "pageg:1\n",
      "nNext:1\n",
      "pageGScroll:1\n",
      "to:36\n",
      "bottomg:1\n",
      "gScroll:1\n",
      "topg:1\n",
      "hGoto:1\n",
      "homepageg:1\n",
      "sGoto:1\n",
      "search(current:1\n",
      "page)/Focus:1\n",
      "search:1\n",
      "boxPHP:1\n",
      "is:46\n",
      "a:25\n",
      "popular:2\n",
      "general-purpose:1\n",
      "scripting:1\n",
      "language:1\n",
      "that:1\n",
      "especially:1\n",
      "suited:1\n",
      "web:1\n",
      "development.Fast,:1\n",
      "flexible:1\n",
      "pragmatic,:1\n",
      "PHP:128\n",
      "powers:1\n",
      "everything:1\n",
      "from:1\n",
      "your:1\n",
      "blog:1\n",
      "the:106\n",
      "most:1\n",
      "websites:1\n",
      "in:64\n",
      "world.Download5.6.38·Release:1\n",
      "Notes·Upgrading7.0.32·Release:1\n",
      "Notes·Upgrading7.1.24·Release:1\n",
      "Notes·Upgrading7.2.12·Release:1\n",
      "Notes·Upgrading08:1\n",
      "Nov:3\n",
      "2018PHP:19\n",
      "7.1.24:3\n",
      "ReleasedPHP:2\n",
      "Release:15\n",
      "AnnouncementThe:1\n",
      "development:12\n",
      "team:24\n",
      "announces:12\n",
      "immediate:12\n",
      "availability:12\n",
      "of:95\n",
      "7.1.24.:1\n",
      "This:13\n",
      "bugfix:5\n",
      "release.All:4\n",
      "7.1:3\n",
      "users:12\n",
      "are:19\n",
      "encouraged:12\n",
      "upgrade:7\n",
      "this:27\n",
      "version.For:8\n",
      "source:31\n",
      "downloads:24\n",
      "please:24\n",
      "visit:24\n",
      "ourdownloads:7\n",
      "page,:7\n",
      "Windows:23\n",
      "binaries:23\n",
      "can:74\n",
      "be:69\n",
      "found:64\n",
      "onwindows.php.net/download/.:7\n",
      "The:19\n",
      "list:29\n",
      "changes:14\n",
      "recorded:7\n",
      "theChangeLog.08:2\n",
      "7.2.12:2\n",
      "ReleasedThe:22\n",
      "7.2.12.:1\n",
      "7.2:3\n",
      "7.3.0RC5:2\n",
      "glad:12\n",
      "announce:12\n",
      "next:19\n",
      "7.3.0:21\n",
      "pre-release,:5\n",
      "7.3.0RC5.:1\n",
      "rough:12\n",
      "outline:12\n",
      "7.3:12\n",
      "release:66\n",
      "cycle:11\n",
      "specified:12\n",
      "thePHP:12\n",
      "Wiki.For:12\n",
      "thedownload:12\n",
      "page.:11\n",
      "sources:16\n",
      "onwindows.php.net/qa/.Please:11\n",
      "carefully:12\n",
      "test:18\n",
      "version:18\n",
      "report:17\n",
      "any:17\n",
      "issues:12\n",
      "thebug:17\n",
      "reporting:12\n",
      "system.THIS:16\n",
      "IS:16\n",
      "A:16\n",
      "DEVELOPMENT:16\n",
      "PREVIEW:16\n",
      "-:17\n",
      "DO:17\n",
      "NOT:17\n",
      "USE:16\n",
      "IT:16\n",
      "IN:16\n",
      "PRODUCTION!For:16\n",
      "more:16\n",
      "information:17\n",
      "on:23\n",
      "new:17\n",
      "features:17\n",
      "other:17\n",
      "changes,:17\n",
      "you:34\n",
      "read:22\n",
      "theNEWSfile,:17\n",
      "or:17\n",
      "theUPGRADINGfile:17\n",
      "for:62\n",
      "complete:17\n",
      "upgrading:17\n",
      "notes.:17\n",
      "Internal:7\n",
      "listed:7\n",
      "theUPGRADING.INTERNALSfile.:7\n",
      "These:17\n",
      "files:17\n",
      "also:22\n",
      "archive.The:12\n",
      "would:12\n",
      "RC6,:1\n",
      "planned:17\n",
      "November:2\n",
      "22nd.The:1\n",
      "signatures:12\n",
      "inthe:12\n",
      "manifestor:12\n",
      "onthe:12\n",
      "QA:12\n",
      "site.Thank:12\n",
      "helping:17\n",
      "us:17\n",
      "make:17\n",
      "better.25:1\n",
      "Oct:5\n",
      "7.3.0RC4:2\n",
      "7.3.0RC4.:1\n",
      "RC5,:1\n",
      "8th.The:1\n",
      "better.11:1\n",
      "7.1.23:2\n",
      "7.1.23.:1\n",
      "theChangeLog.11:2\n",
      "7.2.11:2\n",
      "7.2.11.:1\n",
      "7.3.0RC3:2\n",
      "7.3.0RC3.:1\n",
      "RC4,:1\n",
      "October:2\n",
      "25th.The:1\n",
      "better.28:2\n",
      "Sep:5\n",
      "7.3.0RC2:2\n",
      "7.3.0RC2.:1\n",
      "RC3,:1\n",
      "11th.The:1\n",
      "better.13:1\n",
      "5.6.38:2\n",
      "5.6.38.:1\n",
      "security:4\n",
      "release.:4\n",
      "One:2\n",
      "bug:3\n",
      "has:2\n",
      "been:2\n",
      "fixed:2\n",
      "All:7\n",
      "5.6:1\n",
      "theChangeLog.13:2\n",
      "7.1.22:2\n",
      "7.1.22.:1\n",
      "7.3.0RC1:2\n",
      "7.3.0RC1.:1\n",
      "RC2,:1\n",
      "September:2\n",
      "27th.The:1\n",
      "better.30:1\n",
      "Aug:5\n",
      "7.3.0.beta3:1\n",
      "seventh:1\n",
      "version,:7\n",
      "7.3.0beta3.:1\n",
      "7.3.0beta3:1\n",
      "RC1,:1\n",
      "13th.The:1\n",
      "better.16:1\n",
      "7.3.0.beta2:1\n",
      "sixth:1\n",
      "7.3.0beta2.:1\n",
      "7.3.0beta2:1\n",
      "Beta:7\n",
      "3,:2\n",
      "August:3\n",
      "30th.The:1\n",
      "better.02:1\n",
      "7.3.0.beta1:1\n",
      "fifth:1\n",
      "7.3.0beta1.:1\n",
      "7.3.0beta1:1\n",
      "2,:2\n",
      "16th.The:1\n",
      "better.19:1\n",
      "Jul:3\n",
      "7.3.0alpha4:2\n",
      "fourth:2\n",
      "7.3.0alpha4.:1\n",
      "1,:2\n",
      "2nd.The:1\n",
      "better.05:1\n",
      "alpha:3\n",
      "3:8\n",
      "third:3\n",
      "Alpha:12\n",
      "3.:3\n",
      "July:2\n",
      "19th.The:1\n",
      "better.21:1\n",
      "Jun:2\n",
      "2:2\n",
      "second:2\n",
      "2.:2\n",
      "5.The:1\n",
      "better.07:1\n",
      "1:4\n",
      "first:4\n",
      "1.:2\n",
      "starts:1\n",
      "cycle,:1\n",
      "which:1\n",
      "page.Please:1\n",
      "system.Please:1\n",
      "use:1\n",
      "production,:1\n",
      "it:1\n",
      "early:1\n",
      "June:1\n",
      "21.The:1\n",
      "better.01:1\n",
      "Feb:1\n",
      "7.2.2:2\n",
      "7.2.2.:1\n",
      "release,:1\n",
      "several:1\n",
      "fixes:2\n",
      "included.All:1\n",
      "theChangeLog.12:1\n",
      "2017PHP:5\n",
      "7.2.0:15\n",
      "Candidate:14\n",
      "4:2\n",
      "RC4.:1\n",
      "7.2.0.:4\n",
      "carefully,:5\n",
      "bugs:5\n",
      "incompatibilities:5\n",
      "tracking:5\n",
      "archive.For:5\n",
      "thedownloadpage,:5\n",
      "atwindows.php.net/qa/.The:4\n",
      "will:5\n",
      "announced:2\n",
      "26th:1\n",
      "October.:2\n",
      "You:5\n",
      "full:5\n",
      "releases:5\n",
      "onour:4\n",
      "wiki.Thank:4\n",
      "RC3.:1\n",
      "12th:1\n",
      "better.31:1\n",
      "released:3\n",
      "14th:1\n",
      "September.:1\n",
      "better.17:1\n",
      "final:1\n",
      "beta:2\n",
      "31th:1\n",
      "August.:1\n",
      "better.06:1\n",
      "contains:1\n",
      "improvements:1\n",
      "relative:1\n",
      "onwindows.php.net/qa/.The:1\n",
      "20th:1\n",
      "July.:1\n",
      "ourwiki.Thank:1\n",
      "better.Older:1\n",
      "News:1\n",
      "EntriesUpcoming:1\n",
      "conferencesInternational:1\n",
      "Conference:1\n",
      "2019:2\n",
      "Spring:1\n",
      "EditionLonghorn:1\n",
      "CFP:1\n",
      "open!php[world]:1\n",
      "2018SymfonyCon:1\n",
      "Lisbon:1\n",
      "2018User:1\n",
      "Group:1\n",
      "EventsSpecial:1\n",
      "ThanksSocial:1\n",
      "media@official_phpCopyright:1\n",
      "©:1\n",
      "2001-2018:1\n",
      "GroupMy:1\n",
      "PHP.netContactOther:1\n",
      "PHP.net:1\n",
      "sitesMirror:1\n",
      "sitesPrivacy:1\n",
      "policy:1\n"
     ]
    }
   ],
   "source": [
    "wordfreq = nltk.FreqDist(words)\n",
    "for key,val in wordfreq.items():\n",
    " \n",
    "    print (str(key) + ':' + str(val))"
   ]
  },
  {
   "cell_type": "markdown",
   "metadata": {},
   "source": [
    "## Frequency Distibution Plot"
   ]
  },
  {
   "cell_type": "code",
   "execution_count": 6,
   "metadata": {},
   "outputs": [
    {
     "data": {
      "text/plain": [
       "<Figure size 640x480 with 1 Axes>"
      ]
     },
     "metadata": {},
     "output_type": "display_data"
    }
   ],
   "source": [
    "wordfreq.plot(30, cumulative=False)"
   ]
  },
  {
   "cell_type": "code",
   "execution_count": 7,
   "metadata": {},
   "outputs": [],
   "source": [
    "from nltk.corpus import stopwords\n",
    "import string\n",
    "words = [i for i in sentences.split() if (i not in stopwords.words('english')) & (i not in string.punctuation)]"
   ]
  },
  {
   "cell_type": "code",
   "execution_count": 8,
   "metadata": {},
   "outputs": [
    {
     "data": {
      "text/plain": [
       "2121"
      ]
     },
     "execution_count": 8,
     "metadata": {},
     "output_type": "execute_result"
    }
   ],
   "source": [
    "len(words)"
   ]
  },
  {
   "cell_type": "markdown",
   "metadata": {},
   "source": [
    "## Frequency Distibution Plot for the most commonly ocuuring 30 words"
   ]
  },
  {
   "cell_type": "code",
   "execution_count": 9,
   "metadata": {},
   "outputs": [
    {
     "data": {
      "image/png": "[encoded data removed]",
      "text/plain": [
       "<Figure size 432x288 with 1 Axes>"
      ]
     },
     "metadata": {},
     "output_type": "display_data"
    }
   ],
   "source": [
    "wordfreq = nltk.FreqDist(words)\n",
    "wordfreq.plot(30, cumulative=False)\n"
   ]
  },
  {
   "cell_type": "markdown",
   "metadata": {},
   "source": [
    "#### Note\n",
    "Stopwords has been removed using nltk.corpus.stopwords library."
   ]
  },
  {
   "cell_type": "markdown",
   "metadata": {},
   "source": [
    "# Tokenizing using NLTK"
   ]
  },
  {
   "cell_type": "code",
   "execution_count": 10,
   "metadata": {},
   "outputs": [],
   "source": [
    "sentences = nltk.sent_tokenize(sentences)\n",
    "words = []\n",
    "for i in range(len(sentences)):\n",
    "    word = nltk.word_tokenize(sentences[i])\n",
    "    for j in word:\n",
    "        if j not in string.punctuation:#remove punctuations as a part of being considered as token\n",
    "            words.append(j)"
   ]
  },
  {
   "cell_type": "code",
   "execution_count": 11,
   "metadata": {},
   "outputs": [
    {
     "data": {
      "text/plain": [
       "2987"
      ]
     },
     "execution_count": 11,
     "metadata": {},
     "output_type": "execute_result"
    }
   ],
   "source": [
    "len(words)"
   ]
  },
  {
   "cell_type": "code",
   "execution_count": 12,
   "metadata": {},
   "outputs": [
    {
     "data": {
      "image/png": "[encoded data removed]",
      "text/plain": [
       "<Figure size 432x288 with 1 Axes>"
      ]
     },
     "metadata": {},
     "output_type": "display_data"
    }
   ],
   "source": [
    "freq = nltk.FreqDist(words)\n",
    "freq.plot(30,cumulative=False)"
   ]
  },
  {
   "cell_type": "markdown",
   "metadata": {},
   "source": [
    "#### Genearting tokens without stopwords"
   ]
  },
  {
   "cell_type": "code",
   "execution_count": 13,
   "metadata": {},
   "outputs": [],
   "source": [
    "words_no_stopwords =[]\n",
    "for i in range(len(sentences)):\n",
    "    word = nltk.word_tokenize(sentences[i])\n",
    "    \n",
    "    for j in word:\n",
    "        \n",
    "        if (j not in stopwords.words('english'))  & (j not in string.punctuation):\n",
    "         \n",
    "            #print(j)\n",
    "            words_no_stopwords.append(j)"
   ]
  },
  {
   "cell_type": "code",
   "execution_count": 14,
   "metadata": {},
   "outputs": [
    {
     "data": {
      "text/plain": [
       "2144"
      ]
     },
     "execution_count": 14,
     "metadata": {},
     "output_type": "execute_result"
    }
   ],
   "source": [
    "len(words_no_stopwords)"
   ]
  },
  {
   "cell_type": "code",
   "execution_count": 15,
   "metadata": {},
   "outputs": [
    {
     "data": {
      "image/png": "[encoded data removed]",
      "text/plain": [
       "<Figure size 432x288 with 1 Axes>"
      ]
     },
     "metadata": {},
     "output_type": "display_data"
    }
   ],
   "source": [
    "freq = nltk.FreqDist(words_no_stopwords)\n",
    "freq.plot(30,cumulative=False)"
   ]
  },
  {
   "cell_type": "code",
   "execution_count": null,
   "metadata": {},
   "outputs": [],
   "source": []
  }
 ],
 "metadata": {
  "kernelspec": {
   "display_name": "Python 3",
   "language": "python",
   "name": "python3"
  },
  "language_info": {
   "codemirror_mode": {
    "name": "ipython",
    "version": 3
   },
   "file_extension": ".py",
   "mimetype": "text/x-python",
   "name": "python",
   "nbconvert_exporter": "python",
   "pygments_lexer": "ipython3",
   "version": "3.6.5"
  }
 },
 "nbformat": 4,
 "nbformat_minor": 2
}
